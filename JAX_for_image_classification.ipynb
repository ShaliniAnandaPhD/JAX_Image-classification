{
  "nbformat": 4,
  "nbformat_minor": 0,
  "metadata": {
    "colab": {
      "provenance": [],
      "authorship_tag": "ABX9TyMUUJOfEuM1KIyzoOx3jrRw",
      "include_colab_link": true
    },
    "kernelspec": {
      "name": "python3",
      "display_name": "Python 3"
    },
    "language_info": {
      "name": "python"
    },
    "accelerator": "TPU"
  },
  "cells": [
    {
      "cell_type": "markdown",
      "metadata": {
        "id": "view-in-github",
        "colab_type": "text"
      },
      "source": [
        "<a href=\"https://colab.research.google.com/github/ShaliniAnandaPhD/JAX_Image-classification/blob/main/JAX_for_image_classification.ipynb\" target=\"_parent\"><img src=\"https://colab.research.google.com/assets/colab-badge.svg\" alt=\"Open In Colab\"/></a>"
      ]
    },
    {
      "cell_type": "markdown",
      "source": [
        "Debugging in JAX can be more challenging compared to standard Python code due to several factors:\n",
        "\n",
        "1. Just-In-Time (JIT) Compilation: JAX uses JIT compilation to optimize performance. However, this means that the Python code is not executed in the usual line-by-line manner. As a result, traditional debugging techniques like inserting print statements or using interactive debuggers can be ineffective, as the code that runs is actually the JIT-compiled version, not the original Python code.\n",
        "\n",
        "2. Transformations and Side Effects: JAX transformations (like `jit`, `grad`, `vmap`) can lead to non-intuitive behaviors, especially when dealing with side effects. Python's side effects (like modifying global state or using print statements) inside JIT-compiled functions may not execute as expected.\n",
        "\n",
        "3. Error Messages and Tracebacks: The error messages and tracebacks in JAX can sometimes be less informative or more complex due to the transformations and optimizations applied to the code. This can make it difficult to pinpoint the exact source of errors.\n",
        "\n",
        "4. Array Abstraction and Lazy Evaluation: JAX's array abstraction and its tendency towards lazy evaluation mean that errors can be deferred until computation is actually performed. This can result in errors being raised far from their actual cause in the code.\n",
        "\n",
        "5. Limited Debugger Support: Traditional Python debuggers are not fully compatible with JAX's execution model. While tools are evolving, as of now, debugging JAX code often requires a more manual and thoughtful approach, such as strategic insertion of inspection code and understanding JAX's operational semantics.\n",
        "\n",
        "These factors combined make debugging in JAX a unique challenge, often requiring a deeper understanding of both the library's internals and the specific machine learning model being developed."
      ],
      "metadata": {
        "id": "dVnLX9TAdNOT"
      }
    },
    {
      "cell_type": "markdown",
      "source": [
        "Install JAX"
      ],
      "metadata": {
        "id": "pXwPJ-PgVqSe"
      }
    },
    {
      "cell_type": "code",
      "execution_count": 28,
      "metadata": {
        "colab": {
          "base_uri": "https://localhost:8080/"
        },
        "id": "0IDVlxWqVh1A",
        "outputId": "f30a6a2e-05dd-4e1c-fba9-e90d3ee4cafb"
      },
      "outputs": [
        {
          "output_type": "stream",
          "name": "stdout",
          "text": [
            "Requirement already satisfied: tensorflow-datasets in /usr/local/lib/python3.10/dist-packages (4.9.3)\n",
            "Requirement already satisfied: optax in /usr/local/lib/python3.10/dist-packages (0.1.7)\n",
            "Requirement already satisfied: absl-py in /usr/local/lib/python3.10/dist-packages (from tensorflow-datasets) (1.4.0)\n",
            "Requirement already satisfied: array-record in /usr/local/lib/python3.10/dist-packages (from tensorflow-datasets) (0.5.0)\n",
            "Requirement already satisfied: click in /usr/local/lib/python3.10/dist-packages (from tensorflow-datasets) (8.1.7)\n",
            "Requirement already satisfied: dm-tree in /usr/local/lib/python3.10/dist-packages (from tensorflow-datasets) (0.1.8)\n",
            "Requirement already satisfied: etils[enp,epath,etree]>=0.9.0 in /usr/local/lib/python3.10/dist-packages (from tensorflow-datasets) (1.5.2)\n",
            "Requirement already satisfied: numpy in /usr/local/lib/python3.10/dist-packages (from tensorflow-datasets) (1.23.5)\n",
            "Requirement already satisfied: promise in /usr/local/lib/python3.10/dist-packages (from tensorflow-datasets) (2.3)\n",
            "Requirement already satisfied: protobuf>=3.20 in /usr/local/lib/python3.10/dist-packages (from tensorflow-datasets) (3.20.3)\n",
            "Requirement already satisfied: psutil in /usr/local/lib/python3.10/dist-packages (from tensorflow-datasets) (5.9.5)\n",
            "Requirement already satisfied: requests>=2.19.0 in /usr/local/lib/python3.10/dist-packages (from tensorflow-datasets) (2.31.0)\n",
            "Requirement already satisfied: tensorflow-metadata in /usr/local/lib/python3.10/dist-packages (from tensorflow-datasets) (1.14.0)\n",
            "Requirement already satisfied: termcolor in /usr/local/lib/python3.10/dist-packages (from tensorflow-datasets) (2.3.0)\n",
            "Requirement already satisfied: toml in /usr/local/lib/python3.10/dist-packages (from tensorflow-datasets) (0.10.2)\n",
            "Requirement already satisfied: tqdm in /usr/local/lib/python3.10/dist-packages (from tensorflow-datasets) (4.66.1)\n",
            "Requirement already satisfied: wrapt in /usr/local/lib/python3.10/dist-packages (from tensorflow-datasets) (1.14.1)\n",
            "Requirement already satisfied: chex>=0.1.5 in /usr/local/lib/python3.10/dist-packages (from optax) (0.1.6)\n",
            "Requirement already satisfied: jax>=0.1.55 in /usr/local/lib/python3.10/dist-packages (from optax) (0.3.25)\n",
            "Requirement already satisfied: jaxlib>=0.1.37 in /usr/local/lib/python3.10/dist-packages (from optax) (0.3.25)\n",
            "Requirement already satisfied: toolz>=0.9.0 in /usr/local/lib/python3.10/dist-packages (from chex>=0.1.5->optax) (0.12.0)\n",
            "Requirement already satisfied: typing-extensions>=4.2.0 in /usr/local/lib/python3.10/dist-packages (from chex>=0.1.5->optax) (4.5.0)\n",
            "Requirement already satisfied: fsspec in /usr/local/lib/python3.10/dist-packages (from etils[enp,epath,etree]>=0.9.0->tensorflow-datasets) (2023.6.0)\n",
            "Requirement already satisfied: importlib_resources in /usr/local/lib/python3.10/dist-packages (from etils[enp,epath,etree]>=0.9.0->tensorflow-datasets) (6.1.1)\n",
            "Requirement already satisfied: zipp in /usr/local/lib/python3.10/dist-packages (from etils[enp,epath,etree]>=0.9.0->tensorflow-datasets) (3.17.0)\n",
            "Requirement already satisfied: opt-einsum in /usr/local/lib/python3.10/dist-packages (from jax>=0.1.55->optax) (3.3.0)\n",
            "Requirement already satisfied: scipy>=1.5 in /usr/local/lib/python3.10/dist-packages (from jax>=0.1.55->optax) (1.11.3)\n",
            "Requirement already satisfied: charset-normalizer<4,>=2 in /usr/local/lib/python3.10/dist-packages (from requests>=2.19.0->tensorflow-datasets) (3.3.2)\n",
            "Requirement already satisfied: idna<4,>=2.5 in /usr/local/lib/python3.10/dist-packages (from requests>=2.19.0->tensorflow-datasets) (3.4)\n",
            "Requirement already satisfied: urllib3<3,>=1.21.1 in /usr/local/lib/python3.10/dist-packages (from requests>=2.19.0->tensorflow-datasets) (2.0.7)\n",
            "Requirement already satisfied: certifi>=2017.4.17 in /usr/local/lib/python3.10/dist-packages (from requests>=2.19.0->tensorflow-datasets) (2023.7.22)\n",
            "Requirement already satisfied: six in /usr/local/lib/python3.10/dist-packages (from promise->tensorflow-datasets) (1.16.0)\n",
            "Requirement already satisfied: googleapis-common-protos<2,>=1.52.0 in /usr/local/lib/python3.10/dist-packages (from tensorflow-metadata->tensorflow-datasets) (1.61.0)\n"
          ]
        }
      ],
      "source": [
        "!pip install tensorflow-datasets optax\n"
      ]
    },
    {
      "cell_type": "markdown",
      "source": [
        "Import Libraries and Load the Dataset"
      ],
      "metadata": {
        "id": "Ad4pLYBHVshC"
      }
    },
    {
      "cell_type": "code",
      "source": [
        "import jax\n",
        "import jax.numpy as jnp\n",
        "import optax\n",
        "import tensorflow_datasets as tfds\n",
        "from jax import grad, jit, value_and_grad\n",
        "from jax.nn import one_hot\n",
        "from jax import random\n",
        "\n",
        "def load_dataset(split, is_training, batch_size):\n",
        "    ds = tfds.load('mnist', split=split, as_supervised=True)\n",
        "    if is_training:\n",
        "        ds = ds.shuffle(1000).repeat()\n",
        "    ds = ds.batch(batch_size)\n",
        "    return iter(tfds.as_numpy(ds))\n",
        "\n",
        "batch_size = 128\n",
        "train_ds = load_dataset(\"train\", is_training=True, batch_size=batch_size)\n",
        "\n",
        "\n"
      ],
      "metadata": {
        "id": "Oq8AOlezVlsU"
      },
      "execution_count": 29,
      "outputs": []
    },
    {
      "cell_type": "markdown",
      "source": [
        "Define the Neural Network"
      ],
      "metadata": {
        "id": "_2-3-aX1WaZB"
      }
    },
    {
      "cell_type": "code",
      "source": [
        "def create_mlp_model(key, layers):\n",
        "    # Adjusted weight initialization\n",
        "    return [dict(w=jax.random.normal(key, (i, o)) * jnp.sqrt(2/i), b=jnp.zeros(o))\n",
        "            for i, o in zip(layers[:-1], layers[1:])]\n",
        "\n",
        "def forward_pass(params, x):\n",
        "    activations = x\n",
        "    for layer in params[:-1]:\n",
        "        activations = jax.nn.relu(jnp.dot(activations, layer['w']) + layer['b'])\n",
        "    final_layer = params[-1]\n",
        "    return jnp.dot(activations, final_layer['w']) + final_layer['b']\n",
        "\n",
        "layer_sizes = [784, 64, 10]  # Simplified model\n",
        "rng = random.PRNGKey(0)\n",
        "params = create_mlp_model(rng, layer_sizes)\n",
        "\n"
      ],
      "metadata": {
        "id": "mGslx-JGWc9B"
      },
      "execution_count": 34,
      "outputs": []
    },
    {
      "cell_type": "markdown",
      "source": [
        "Define Loss Function and Update Step"
      ],
      "metadata": {
        "id": "N1HjBJSOWgHB"
      }
    },
    {
      "cell_type": "code",
      "source": [
        "def softmax_cross_entropy_with_logits(logits, labels):\n",
        "    # Improved numerical stability in the softmax function\n",
        "    logits = logits - jnp.max(logits, axis=1, keepdims=True)\n",
        "    logsumexp = jnp.log(jnp.sum(jnp.exp(logits), axis=1, keepdims=True))\n",
        "    return -jnp.mean(jnp.sum(labels * logits, axis=1) - logsumexp)\n",
        "\n",
        "def loss_fn(params, x, y):\n",
        "    preds = forward_pass(params, x)\n",
        "    return softmax_cross_entropy_with_logits(logits=preds, labels=y)\n",
        "\n",
        "@jit\n",
        "def update(params, x, y, opt_state):\n",
        "    value, grads = value_and_grad(loss_fn)(params, x, y)\n",
        "    grads = jax.tree_util.tree_map(lambda g: jnp.clip(g, -1, 1), grads)  # Clip gradients\n",
        "    updates, opt_state = optimizer.update(grads, opt_state)\n",
        "    return optax.apply_updates(params, updates), opt_state, value\n",
        "\n",
        "step_size = 1e-4  # Adjusted learning rate\n",
        "optimizer = optax.adam(step_size)\n",
        "opt_state = optimizer.init(params)\n",
        "\n"
      ],
      "metadata": {
        "id": "IIGPmxduWhgg"
      },
      "execution_count": 35,
      "outputs": []
    },
    {
      "cell_type": "markdown",
      "source": [
        "Training Loop"
      ],
      "metadata": {
        "id": "-7_bGT2dWlOi"
      }
    },
    {
      "cell_type": "code",
      "source": [
        "import matplotlib.pyplot as plt\n",
        "\n",
        "# Initialize a list to store training losses\n",
        "train_losses = []\n",
        "\n",
        "# Number of epochs\n",
        "num_epochs = 10\n",
        "\n",
        "for epoch in range(num_epochs):\n",
        "    train_loss = 0\n",
        "    for _ in range(60000 // batch_size):\n",
        "        x, y = next(train_ds)\n",
        "        x = x.reshape(x.shape[0], -1) / 255.0  # Flatten and normalize the images\n",
        "        y = one_hot(y, 10)  # One-hot encode the labels\n",
        "        params, opt_state, loss = update(params, x, y, opt_state)\n",
        "        train_loss += loss\n",
        "    train_loss /= (60000 // batch_size)\n",
        "    train_losses.append(train_loss)  # Store the loss for this epoch\n",
        "    print(f'Epoch {epoch} Train Loss: {train_loss}')\n",
        "\n",
        "# Plot the training losses\n",
        "plt.plot(train_losses, label='Training Loss')\n",
        "plt.xlabel('Epoch')\n",
        "plt.ylabel('Loss')\n",
        "plt.title('Training Loss Over Epochs')\n",
        "plt.legend()\n",
        "plt.show()"
      ],
      "metadata": {
        "colab": {
          "base_uri": "https://localhost:8080/",
          "height": 651
        },
        "id": "N0fsj6e_WkjR",
        "outputId": "05ac47cd-4120-4147-9290-a55b93915386"
      },
      "execution_count": 37,
      "outputs": [
        {
          "output_type": "stream",
          "name": "stdout",
          "text": [
            "Epoch 0 Train Loss: 0.21833276748657227\n",
            "Epoch 1 Train Loss: 0.21011541783809662\n",
            "Epoch 2 Train Loss: 0.20279847085475922\n",
            "Epoch 3 Train Loss: 0.19488689303398132\n",
            "Epoch 4 Train Loss: 0.18802553415298462\n",
            "Epoch 5 Train Loss: 0.1819218546152115\n",
            "Epoch 6 Train Loss: 0.1754637360572815\n",
            "Epoch 7 Train Loss: 0.17018675804138184\n",
            "Epoch 8 Train Loss: 0.16489030420780182\n",
            "Epoch 9 Train Loss: 0.1597435176372528\n"
          ]
        },
        {
          "output_type": "display_data",
          "data": {
            "text/plain": [
              "<Figure size 640x480 with 1 Axes>"
            ],
            "image/png": "[encoded data removed]"
          },
          "metadata": {}
        }
      ]
    }
  ]
}